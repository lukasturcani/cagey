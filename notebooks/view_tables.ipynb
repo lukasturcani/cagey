{
 "cells": [
  {
   "cell_type": "code",
   "execution_count": null,
   "id": "2607d4da-4388-4185-a9bd-914834a13d8f",
   "metadata": {},
   "outputs": [],
   "source": [
    "import polars as pl\n",
    "from sqlmodel import create_engine\n",
    "from sqlmodel.pool import StaticPool\n",
    "from pathlib import Path\n",
    "import cagey\n",
    "pl.Config.set_tbl_cols(-1)\n",
    "pl.Config.set_tbl_rows(-1)\n",
    "pl.Config.set_fmt_str_lengths(200)\n",
    "\n",
    "database = Path(\"/home/lukas/data/cagey/cagey.db\")\n",
    "\n",
    "engine = create_engine(\n",
    "    f\"sqlite:///{database}\",\n",
    "    connect_args={\"check_same_thread\": False},\n",
    "    poolclass=StaticPool,\n",
    ")"
   ]
  },
  {
   "cell_type": "markdown",
   "id": "3b580c76-8c12-4bbf-ae82-5033c8825aa6",
   "metadata": {},
   "source": [
    "# DB: View Reactions"
   ]
  },
  {
   "cell_type": "code",
   "execution_count": null,
   "id": "b09b2282-7126-4dc9-b6ad-de8ed53e9189",
   "metadata": {},
   "outputs": [],
   "source": [
    "cagey.notebook.get_reactions_from_database(engine)"
   ]
  },
  {
   "cell_type": "markdown",
   "id": "a1da2397-29ab-4a4d-b83f-8872c88a5b5a",
   "metadata": {},
   "source": [
    "# DB: View Mass Spec"
   ]
  },
  {
   "cell_type": "markdown",
   "id": "3e9e8fa2-8b74-4237-8aba-f8a6a85524d0",
   "metadata": {},
   "source": [
    "## Peaks"
   ]
  },
  {
   "cell_type": "code",
   "execution_count": null,
   "id": "0b29631f-1d1f-49b6-8ef4-8bbd3ca1615b",
   "metadata": {},
   "outputs": [],
   "source": [
    "cagey.notebook.get_ms_peaks_from_database(engine)"
   ]
  },
  {
   "cell_type": "markdown",
   "id": "7c23e949-f3d3-4a4b-91ea-f026a88677f5",
   "metadata": {},
   "source": [
    "## Topology Assignments"
   ]
  },
  {
   "cell_type": "markdown",
   "id": "3de6bc99-ea98-47ad-8d6c-ad2b67ce2d52",
   "metadata": {},
   "source": [
    "### Dense View"
   ]
  },
  {
   "cell_type": "code",
   "execution_count": null,
   "id": "79ed4161-ec6c-42b2-99fd-69c33f2c9b68",
   "metadata": {},
   "outputs": [],
   "source": [
    "(\n",
    "    cagey.notebook.get_ms_topology_assignments_from_database(engine)\n",
    "    .group_by([\"experiment\", \"plate\", \"formulation_number\"])\n",
    "    .agg(pl.col(\"topology\").unique())\n",
    ")"
   ]
  },
  {
   "cell_type": "markdown",
   "id": "cf7c788a-4d85-40e5-a571-118d8e7f3990",
   "metadata": {},
   "source": [
    "### Full View"
   ]
  },
  {
   "cell_type": "code",
   "execution_count": null,
   "id": "ea29572c-07e5-4216-a92c-5c89ff581ec5",
   "metadata": {},
   "outputs": [],
   "source": [
    "cagey.notebook.get_ms_topology_assignments_from_database(engine)"
   ]
  },
  {
   "cell_type": "markdown",
   "id": "ddbdac65-92b8-4f98-8439-af673187b611",
   "metadata": {},
   "source": [
    "# File: View Mass Spec"
   ]
  },
  {
   "cell_type": "markdown",
   "id": "fabebcb3-d5b8-4fa1-80b3-38b7e48413bd",
   "metadata": {},
   "source": [
    "## Peaks"
   ]
  },
  {
   "cell_type": "code",
   "execution_count": null,
   "id": "3ce3f593-f619-4b18-917c-d7b957898de1",
   "metadata": {},
   "outputs": [],
   "source": [
    "cagey.notebook.get_ms_spectrum_from_file(\n",
    "    path=Path(\"/home/lukas/data/cagey/ms/AB-02-005_01_37.csv\"),\n",
    "    engine=engine,\n",
    "    calculated_peak_tolerance=0.1,\n",
    "    separation_peak_tolerance=0.1,\n",
    "    max_ppm_error=10,\n",
    "    max_separation=0.02,\n",
    "    min_peak_height=1e4,\n",
    ").get_peak_df()"
   ]
  },
  {
   "cell_type": "markdown",
   "id": "815e7f9c-ca58-4174-ba15-357829702d3c",
   "metadata": {},
   "source": [
    "## Topology Assignments"
   ]
  },
  {
   "cell_type": "code",
   "execution_count": null,
   "id": "2b70eb50-fbaf-4e6a-b00d-5cd886064d0d",
   "metadata": {},
   "outputs": [],
   "source": [
    "cagey.notebook.get_ms_topology_assignments_from_file(\n",
    "    path=Path(\"/home/lukas/data/cagey/ms/AB-02-005_01_37.csv\"),\n",
    "    engine=engine,\n",
    "    calculated_peak_tolerance=0.1,\n",
    "    separation_peak_tolerance=0.1,\n",
    "    max_ppm_error=10,\n",
    "    max_separation=0.02,\n",
    "    min_peak_height=1e4,\n",
    ")"
   ]
  },
  {
   "cell_type": "markdown",
   "id": "62c64bef-08f1-4486-9114-6bf7c02959dd",
   "metadata": {},
   "source": [
    "# DB: View NMR Peaks"
   ]
  },
  {
   "cell_type": "markdown",
   "id": "d133c6f9-6610-4ead-8bd9-30256d7f85bf",
   "metadata": {},
   "source": [
    "## Aldehyde"
   ]
  },
  {
   "cell_type": "code",
   "execution_count": null,
   "id": "8230e59b-b80a-4e2d-95b5-1c027d0e59d5",
   "metadata": {},
   "outputs": [],
   "source": [
    "cagey.notebook.get_nmr_aldehyde_peaks_from_database(engine)"
   ]
  },
  {
   "cell_type": "markdown",
   "id": "21c7f210-8fce-469d-b127-06d2ddafb060",
   "metadata": {},
   "source": [
    "## Imine"
   ]
  },
  {
   "cell_type": "code",
   "execution_count": null,
   "id": "f3b3fcbf-934d-4338-9f20-2b5ec1270835",
   "metadata": {},
   "outputs": [],
   "source": [
    "cagey.notebook.get_nmr_imine_peaks_from_database(engine)"
   ]
  },
  {
   "cell_type": "markdown",
   "id": "dcca0e6d-b162-4e7b-8904-3c2ccddfb72d",
   "metadata": {},
   "source": [
    "# File: View NMR Peaks"
   ]
  },
  {
   "cell_type": "markdown",
   "id": "0233d536-b781-4170-8b5e-900819e29d4e",
   "metadata": {},
   "source": [
    "## Aldehyde"
   ]
  },
  {
   "cell_type": "code",
   "execution_count": null,
   "id": "922aff07-d555-4248-af54-b5ea0d90dc51",
   "metadata": {},
   "outputs": [],
   "source": [
    "cagey.notebook.get_nmr_aldehyde_peaks_from_file(\n",
    "    path=Path(\"/home/lukas/data/cagey/nmr/AB-02-005/P1/10/pdata/1/title\"),\n",
    "    engine=engine,\n",
    ")"
   ]
  },
  {
   "cell_type": "markdown",
   "id": "3fa9f715-2f33-46f5-a522-d9085abfdcfb",
   "metadata": {},
   "source": [
    "## Imine"
   ]
  },
  {
   "cell_type": "code",
   "execution_count": null,
   "id": "c42c4b0f-1918-40b4-868d-02e621263386",
   "metadata": {},
   "outputs": [],
   "source": [
    "cagey.notebook.get_nmr_imine_peaks_from_file(\n",
    "    path=Path(\"/home/lukas/data/cagey/nmr/AB-02-005/P1/10/pdata/1/title\"),    \n",
    "    engine=engine,\n",
    ")"
   ]
  },
  {
   "cell_type": "markdown",
   "id": "3db293b6-dfd1-441f-a7f5-f01746433143",
   "metadata": {},
   "source": [
    "# DB: View Turbidity"
   ]
  },
  {
   "cell_type": "code",
   "execution_count": null,
   "id": "1be9dda3-e09f-4470-beec-65ffa00df7c3",
   "metadata": {},
   "outputs": [],
   "source": [
    "cagey.notebook.get_turbidity_from_database(engine)"
   ]
  }
 ],
 "metadata": {
  "kernelspec": {
   "display_name": "Python 3 (ipykernel)",
   "language": "python",
   "name": "python3"
  },
  "language_info": {
   "codemirror_mode": {
    "name": "ipython",
    "version": 3
   },
   "file_extension": ".py",
   "mimetype": "text/x-python",
   "name": "python",
   "nbconvert_exporter": "python",
   "pygments_lexer": "ipython3",
   "version": "3.11.5"
  }
 },
 "nbformat": 4,
 "nbformat_minor": 5
}
