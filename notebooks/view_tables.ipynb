{
 "cells": [
  {
   "cell_type": "code",
   "execution_count": null,
   "id": "2607d4da-4388-4185-a9bd-914834a13d8f",
   "metadata": {},
   "outputs": [],
   "source": [
    "import polars as pl\n",
    "from sqlmodel import create_engine\n",
    "from sqlmodel.pool import StaticPool\n",
    "from pathlib import Path\n",
    "import cagey\n",
    "pl.Config.set_tbl_cols(-1)\n",
    "pl.Config.set_tbl_rows(-1)\n",
    "\n",
    "database = Path(\"/home/lukas/data/cagey/cagey.db\")\n",
    "\n",
    "engine = create_engine(\n",
    "    f\"sqlite:///{database}\",\n",
    "    connect_args={\"check_same_thread\": False},\n",
    "    poolclass=StaticPool,\n",
    ")"
   ]
  },
  {
   "cell_type": "markdown",
   "id": "7c23e949-f3d3-4a4b-91ea-f026a88677f5",
   "metadata": {},
   "source": [
    "# DB: View Mass Spectrum Topology Assignments"
   ]
  },
  {
   "cell_type": "markdown",
   "id": "3de6bc99-ea98-47ad-8d6c-ad2b67ce2d52",
   "metadata": {},
   "source": [
    "## Dense View"
   ]
  },
  {
   "cell_type": "code",
   "execution_count": null,
   "id": "79ed4161-ec6c-42b2-99fd-69c33f2c9b68",
   "metadata": {},
   "outputs": [],
   "source": [
    "(\n",
    "    cagey.notebook.get_ms_topology_assignments_from_database(engine)\n",
    "    .group_by([\"experiment\", \"plate\", \"formulation_number\"])\n",
    "    .agg(pl.col(\"topology\").unique())\n",
    ")"
   ]
  },
  {
   "cell_type": "markdown",
   "id": "cf7c788a-4d85-40e5-a571-118d8e7f3990",
   "metadata": {},
   "source": [
    "## Full View"
   ]
  },
  {
   "cell_type": "code",
   "execution_count": null,
   "id": "ea29572c-07e5-4216-a92c-5c89ff581ec5",
   "metadata": {},
   "outputs": [],
   "source": [
    "cagey.notebook.get_ms_topology_assignments_from_database(engine)"
   ]
  },
  {
   "cell_type": "markdown",
   "id": "ddbdac65-92b8-4f98-8439-af673187b611",
   "metadata": {},
   "source": [
    "# File: View Mass Spectrum"
   ]
  },
  {
   "cell_type": "markdown",
   "id": "fabebcb3-d5b8-4fa1-80b3-38b7e48413bd",
   "metadata": {},
   "source": [
    "## Peaks"
   ]
  },
  {
   "cell_type": "code",
   "execution_count": null,
   "id": "3ce3f593-f619-4b18-917c-d7b957898de1",
   "metadata": {},
   "outputs": [],
   "source": [
    "cagey.notebook.get_ms_spectrum_from_file(\n",
    "    path=Path(\"/home/lukas/data/cagey/ms/AB-02-005_01_37.csv\"),\n",
    "    engine=engine,\n",
    "    calculated_peak_tolerance=0.1,\n",
    "    separation_peak_tolerance=0.1,\n",
    "    max_ppm_error=10,\n",
    "    max_separation=0.02,\n",
    "    min_peak_height=1e4,\n",
    ").to_df()"
   ]
  },
  {
   "cell_type": "markdown",
   "id": "815e7f9c-ca58-4174-ba15-357829702d3c",
   "metadata": {},
   "source": [
    "## Topology Assignments"
   ]
  },
  {
   "cell_type": "code",
   "execution_count": null,
   "id": "2b70eb50-fbaf-4e6a-b00d-5cd886064d0d",
   "metadata": {},
   "outputs": [],
   "source": [
    "cagey.notebook.get_ms_topology_assignments_from_file(\n",
    "    path=Path(\"/home/lukas/data/cagey/ms/AB-02-005_01_37.csv\"),\n",
    "    engine=engine,\n",
    "    calculated_peak_tolerance=0.1,\n",
    "    separation_peak_tolerance=0.1,\n",
    "    max_ppm_error=10,\n",
    "    max_separation=0.02,\n",
    "    min_peak_height=1e4,\n",
    ")"
   ]
  }
 ],
 "metadata": {
  "kernelspec": {
   "display_name": "Python 3 (ipykernel)",
   "language": "python",
   "name": "python3"
  },
  "language_info": {
   "codemirror_mode": {
    "name": "ipython",
    "version": 3
   },
   "file_extension": ".py",
   "mimetype": "text/x-python",
   "name": "python",
   "nbconvert_exporter": "python",
   "pygments_lexer": "ipython3",
   "version": "3.11.5"
  }
 },
 "nbformat": 4,
 "nbformat_minor": 5
}
